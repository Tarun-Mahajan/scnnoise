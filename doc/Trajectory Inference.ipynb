{
 "cells": [
  {
   "cell_type": "code",
   "execution_count": 2,
   "id": "3fd61690",
   "metadata": {},
   "outputs": [],
   "source": [
    "from scnnoise import _scnnoise\n",
    "import pandas as pd\n",
    "\n",
    "class LTSim:\n",
    "    def __init__(self, root, num_rxns, num_genes, num_species_genes, num_rxns_gene_type, max_time, count_save_file, edge_list_csv):\n",
    "        \"\"\"\n",
    "        Constructor for the LTSim object\n",
    "        Takes in the root of the LineageTree in the simulation\n",
    "        \"\"\"\n",
    "        self.root = root    #cell Type\n",
    "        \n",
    "        #write set functions for each instead of in constructor\n",
    "        self.num_rxns = num_rxns\n",
    "        self.num_genes = num_genes\n",
    "        self.num_species_genes = num_species_genes\n",
    "        self.num_rxns_gene_type = num_rxns_gene_type\n",
    "        self.max_time = max_time\n",
    "        self.count_save_file = count_save_file\n",
    "        self.edge_list_csv = edge_list_csv\n",
    "        \n",
    "    def sim_LT(num_samples):\n",
    "        \"\"\"\n",
    "        Outputs a n x g Matrix (n cells by g Genes) of raw mRNA counts\n",
    "        \"\"\"\n",
    "        #Step 1: Construct simulator object\n",
    "        #a. build GRN from params\n",
    "        #b. define intragene interactions\n",
    "        simulator = _scnnoise.gillespieSDMnoCellCycle(self.num_rxns, self.num_genes, self.num_species_genes, self.num_rxns_gene_type, self.max_time, True, 10000, self.count_save_file)\n",
    "        \n",
    "    #add_gene_state (int gene_id, int gene_type, std::vector<int> GRN_rxn_IN,\n",
    "    #std::vector<int> GRN_species_OUT, std::vector<int> molecule_count_cur,\n",
    "    #std::vector<std::vector<int>> reactants, std::vector<std::vector<int>> products,\n",
    "    #std::vector<std::vector<int>> reactants_stoichio, std::vector<std::vector<int>> products_stoichio,\n",
    "    #std::vector<double> rxn_rate, std::vector<double> propensity_val)\n",
    "        \n",
    "        for gene_id in range(self.num_genes):\n",
    "            simulator.add_gene_state(gene_id, gene_type[gene_id] ,GRN_rxn_IN[gene_id], GRN_species_OUT[gene_id], molecule_count_cur[gene_id], reactants[gene_id], products[gene_id], reactants_stoichio[gene_id], products_stoichio[gene_id], rxn_rate[gene_id], products_stoichio[gene_id], rxn_rate[gene_id], propensity_val[gene_id])\n",
    "        \n",
    "    #void scNNoiSE::add_GRN_edge (int src, int dest, double prob_contr,\n",
    "    #double hill_coeff, double half_maximal, int rxn_IN, int species_OUT,\n",
    "    #bool activator)\n",
    "        \n",
    "        # Use file name for this\n",
    "        for edge in edge_list:\n",
    "            simulator.add_GRN_edge(edge[0], edge[1], edge[2], edge[3], edge[4], edge[5],edge[6], edge[7])\n",
    "        \n",
    "        \n",
    "        for dep in dep_list:\n",
    "            simulator.add_dependency_edge(dep[0], dep[1], dep[2])\n",
    "\n",
    "        \n",
    "        #Step 2: Run sim_cell_type() on root\n",
    "        self.root.sim_cell_type(num_samples, simulator)\n",
    "        \n",
    "        \n",
    "        #Step 3: return result file, or data structure\n",
    "            \n",
    "            \n",
    "        return self.sample"
   ]
  },
  {
   "cell_type": "code",
   "execution_count": 3,
   "id": "57660941",
   "metadata": {},
   "outputs": [],
   "source": [
    "\n",
    "class cellType:\n",
    "    def __init__(self, lineageName,rxn_rates, children):\n",
    "        \"\"\"\n",
    "        Takes in rxn_rates and children and constructs a cellType node\n",
    "        \"\"\"\n",
    "        #get rate parameters from external file or otherwise\n",
    "        self.lineageName = lineageName\n",
    "        self.rxn_rates = rxn_rates\n",
    "        self.children = children\n",
    "\n",
    "    def sim_cell_type(num_samples, simulator):\n",
    "        \"\"\"\n",
    "        Params\n",
    "            num_samples - number of sample reads to output for this cell type\n",
    "            simulator -  a simulator object used to simulate  the system\n",
    "            \n",
    "        Simulates num_samples reads of cellType \n",
    "        and outputs num_samples x genes Matrix of raw mRNA counts\n",
    "        \"\"\"\n",
    "        #Recursive function (careful with passing by reference/by copy)\n",
    "        #Step 1: simulate gene expression to steady state\n",
    "            #a. it would be nice to be able to pass the time to simulate for into the simulate function\n",
    "        simulator.simulate()\n",
    "            #for steady state check sergio method\n",
    "        \n",
    "        #Step 2: Sample num_samples reads for each gene\n",
    "        #Step 3: Recusively run sim_transition() on all children (this could be parallelized)\n",
    "        \n",
    "        \n",
    "        #base case\n",
    "        if len(children) == 0:\n",
    "            return \n",
    "        \n",
    "        #recursive case\n",
    "        else:\n",
    "            for cell_type in self.children:\n",
    "                cell_type.sim_transition(num_samples, simulator)\n",
    "                \n",
    "        \n",
    "    def sim_transition(num_samples, simulator):\n",
    "        \"\"\"\n",
    "        Params\n",
    "            num_samples - number of sample reads to output for this cell type\n",
    "            simulator -  a simulator object used to simulate  the system\n",
    "            \n",
    "        Simulates num_samples reads of cells transitioning from the parent cell type \n",
    "        and outputs num_samples x genes Matrix of raw mRNA counts\n",
    "        \"\"\"\n",
    "        #helper (careful with passing by reference/by copy)\n",
    "        #Step 1: Save new kinetic parameters into simulator\n",
    "            #a. maybe here it would be better to add options to the c++ code to make this easier \n",
    "        for gene in range(simulator.num_genes):   \n",
    "                rxn_struct.rxn_rate = self.rxn_rates[gene][param_id]\n",
    "            \n",
    "            \n",
    "        #Step 2: simluate transition from parent steady state to daughter steady state\n",
    "            #a. here we check when the system reaches a new steady state and sample before then\n",
    "            #b. if steady states are similar mbe set simulation time?\n",
    "            \n",
    "        #try t-test for mean for all genes (for each thousand timepoints) compared to calculated steady state for current cell_type\n",
    "        simulator.simulate()\n",
    "        \n",
    "        #Step 3: Sample num_sample transition cells and store to output and run sim_cell_type\n",
    "        self.sim_cell_type(num_samples, simulator)\n",
    "        "
   ]
  },
  {
   "cell_type": "code",
   "execution_count": 4,
   "id": "fe08e97c",
   "metadata": {},
   "outputs": [
    {
     "data": {
      "text/plain": [
       "4"
      ]
     },
     "execution_count": 4,
     "metadata": {},
     "output_type": "execute_result"
    }
   ],
   "source": [
    "### Testing cellType creation\n",
    "c4 = cellType(4,[1,2,3,4],[]) #placeholder reaction rates\n",
    "c3 = cellType(3,[1,2,3,4],[c4]) \n",
    "c2 = cellType(2,[1,2,3,4],[]) \n",
    "c1 = cellType(1,[1,2,3,4],[c2,c3]) \n",
    " \n",
    "c1.children[1].children[0].lineageName #should output 4\n",
    "\n"
   ]
  },
  {
   "cell_type": "code",
   "execution_count": 5,
   "id": "95ee946b",
   "metadata": {},
   "outputs": [],
   "source": [
    "sim  = LTSim(c1, 12, 2, [4, 4], [6, 6],1000, 'save_test', 'edge_test.csv')"
   ]
  },
  {
   "cell_type": "code",
   "execution_count": 6,
   "id": "1d23ed99",
   "metadata": {},
   "outputs": [
    {
     "ename": "FileNotFoundError",
     "evalue": "[Errno 2] No such file or directory: 'edge_test.csv'",
     "output_type": "error",
     "traceback": [
      "\u001b[0;31m---------------------------------------------------------------------------\u001b[0m",
      "\u001b[0;31mFileNotFoundError\u001b[0m                         Traceback (most recent call last)",
      "\u001b[0;32m<ipython-input-6-033256f4c7ef>\u001b[0m in \u001b[0;36m<module>\u001b[0;34m\u001b[0m\n\u001b[1;32m      8\u001b[0m     \u001b[0;31m#double hill_coeff, double half_maximal, int rxn_IN, int species_OUT,\u001b[0m\u001b[0;34m\u001b[0m\u001b[0;34m\u001b[0m\u001b[0;34m\u001b[0m\u001b[0m\n\u001b[1;32m      9\u001b[0m     \u001b[0;31m#bool activator)\u001b[0m\u001b[0;34m\u001b[0m\u001b[0;34m\u001b[0m\u001b[0;34m\u001b[0m\u001b[0m\n\u001b[0;32m---> 10\u001b[0;31m \u001b[0medge_list\u001b[0m \u001b[0;34m=\u001b[0m \u001b[0mpd\u001b[0m\u001b[0;34m.\u001b[0m\u001b[0mread_csv\u001b[0m\u001b[0;34m(\u001b[0m\u001b[0msim\u001b[0m\u001b[0;34m.\u001b[0m\u001b[0medge_list_csv\u001b[0m\u001b[0;34m)\u001b[0m\u001b[0;34m\u001b[0m\u001b[0;34m\u001b[0m\u001b[0m\n\u001b[0m\u001b[1;32m     11\u001b[0m \u001b[0;34m\u001b[0m\u001b[0m\n\u001b[1;32m     12\u001b[0m \u001b[0msimulator\u001b[0m\u001b[0;34m.\u001b[0m\u001b[0madd_GRN_edge\u001b[0m\u001b[0;34m(\u001b[0m\u001b[0medge_list\u001b[0m\u001b[0;34m[\u001b[0m\u001b[0;34m'src'\u001b[0m\u001b[0;34m]\u001b[0m\u001b[0;34m[\u001b[0m\u001b[0;36m0\u001b[0m\u001b[0;34m]\u001b[0m\u001b[0;34m,\u001b[0m \u001b[0medge_list\u001b[0m\u001b[0;34m[\u001b[0m\u001b[0;34m'dest'\u001b[0m\u001b[0;34m]\u001b[0m\u001b[0;34m[\u001b[0m\u001b[0;36m0\u001b[0m\u001b[0;34m]\u001b[0m\u001b[0;34m,\u001b[0m \u001b[0medge_list\u001b[0m\u001b[0;34m[\u001b[0m\u001b[0;34m'prob_contr'\u001b[0m\u001b[0;34m]\u001b[0m\u001b[0;34m[\u001b[0m\u001b[0;36m0\u001b[0m\u001b[0;34m]\u001b[0m\u001b[0;34m,\u001b[0m \u001b[0medge_list\u001b[0m\u001b[0;34m[\u001b[0m\u001b[0;34m'hill_coeff'\u001b[0m\u001b[0;34m]\u001b[0m\u001b[0;34m[\u001b[0m\u001b[0;36m0\u001b[0m\u001b[0;34m]\u001b[0m\u001b[0;34m,\u001b[0m \u001b[0medge_list\u001b[0m\u001b[0;34m[\u001b[0m\u001b[0;34m'half_maximal'\u001b[0m\u001b[0;34m]\u001b[0m\u001b[0;34m[\u001b[0m\u001b[0;36m0\u001b[0m\u001b[0;34m]\u001b[0m\u001b[0;34m,\u001b[0m \u001b[0medge_list\u001b[0m\u001b[0;34m[\u001b[0m\u001b[0;34m'rxn_IN'\u001b[0m\u001b[0;34m]\u001b[0m\u001b[0;34m[\u001b[0m\u001b[0;36m0\u001b[0m\u001b[0;34m]\u001b[0m\u001b[0;34m,\u001b[0m \u001b[0medge_list\u001b[0m\u001b[0;34m[\u001b[0m\u001b[0;34m'species_OUT'\u001b[0m\u001b[0;34m]\u001b[0m\u001b[0;34m[\u001b[0m\u001b[0;36m0\u001b[0m\u001b[0;34m]\u001b[0m\u001b[0;34m,\u001b[0m\u001b[0medge_list\u001b[0m\u001b[0;34m[\u001b[0m\u001b[0;34m'activator'\u001b[0m\u001b[0;34m]\u001b[0m\u001b[0;34m[\u001b[0m\u001b[0;36m0\u001b[0m\u001b[0;34m]\u001b[0m\u001b[0;34m)\u001b[0m\u001b[0;34m\u001b[0m\u001b[0;34m\u001b[0m\u001b[0m\n",
      "\u001b[0;32m~/Library/Python/3.8/lib/python/site-packages/pandas/io/parsers.py\u001b[0m in \u001b[0;36mread_csv\u001b[0;34m(filepath_or_buffer, sep, delimiter, header, names, index_col, usecols, squeeze, prefix, mangle_dupe_cols, dtype, engine, converters, true_values, false_values, skipinitialspace, skiprows, skipfooter, nrows, na_values, keep_default_na, na_filter, verbose, skip_blank_lines, parse_dates, infer_datetime_format, keep_date_col, date_parser, dayfirst, cache_dates, iterator, chunksize, compression, thousands, decimal, lineterminator, quotechar, quoting, doublequote, escapechar, comment, encoding, dialect, error_bad_lines, warn_bad_lines, delim_whitespace, low_memory, memory_map, float_precision, storage_options)\u001b[0m\n\u001b[1;32m    608\u001b[0m     \u001b[0mkwds\u001b[0m\u001b[0;34m.\u001b[0m\u001b[0mupdate\u001b[0m\u001b[0;34m(\u001b[0m\u001b[0mkwds_defaults\u001b[0m\u001b[0;34m)\u001b[0m\u001b[0;34m\u001b[0m\u001b[0;34m\u001b[0m\u001b[0m\n\u001b[1;32m    609\u001b[0m \u001b[0;34m\u001b[0m\u001b[0m\n\u001b[0;32m--> 610\u001b[0;31m     \u001b[0;32mreturn\u001b[0m \u001b[0m_read\u001b[0m\u001b[0;34m(\u001b[0m\u001b[0mfilepath_or_buffer\u001b[0m\u001b[0;34m,\u001b[0m \u001b[0mkwds\u001b[0m\u001b[0;34m)\u001b[0m\u001b[0;34m\u001b[0m\u001b[0;34m\u001b[0m\u001b[0m\n\u001b[0m\u001b[1;32m    611\u001b[0m \u001b[0;34m\u001b[0m\u001b[0m\n\u001b[1;32m    612\u001b[0m \u001b[0;34m\u001b[0m\u001b[0m\n",
      "\u001b[0;32m~/Library/Python/3.8/lib/python/site-packages/pandas/io/parsers.py\u001b[0m in \u001b[0;36m_read\u001b[0;34m(filepath_or_buffer, kwds)\u001b[0m\n\u001b[1;32m    460\u001b[0m \u001b[0;34m\u001b[0m\u001b[0m\n\u001b[1;32m    461\u001b[0m     \u001b[0;31m# Create the parser.\u001b[0m\u001b[0;34m\u001b[0m\u001b[0;34m\u001b[0m\u001b[0;34m\u001b[0m\u001b[0m\n\u001b[0;32m--> 462\u001b[0;31m     \u001b[0mparser\u001b[0m \u001b[0;34m=\u001b[0m \u001b[0mTextFileReader\u001b[0m\u001b[0;34m(\u001b[0m\u001b[0mfilepath_or_buffer\u001b[0m\u001b[0;34m,\u001b[0m \u001b[0;34m**\u001b[0m\u001b[0mkwds\u001b[0m\u001b[0;34m)\u001b[0m\u001b[0;34m\u001b[0m\u001b[0;34m\u001b[0m\u001b[0m\n\u001b[0m\u001b[1;32m    463\u001b[0m \u001b[0;34m\u001b[0m\u001b[0m\n\u001b[1;32m    464\u001b[0m     \u001b[0;32mif\u001b[0m \u001b[0mchunksize\u001b[0m \u001b[0;32mor\u001b[0m \u001b[0miterator\u001b[0m\u001b[0;34m:\u001b[0m\u001b[0;34m\u001b[0m\u001b[0;34m\u001b[0m\u001b[0m\n",
      "\u001b[0;32m~/Library/Python/3.8/lib/python/site-packages/pandas/io/parsers.py\u001b[0m in \u001b[0;36m__init__\u001b[0;34m(self, f, engine, **kwds)\u001b[0m\n\u001b[1;32m    817\u001b[0m             \u001b[0mself\u001b[0m\u001b[0;34m.\u001b[0m\u001b[0moptions\u001b[0m\u001b[0;34m[\u001b[0m\u001b[0;34m\"has_index_names\"\u001b[0m\u001b[0;34m]\u001b[0m \u001b[0;34m=\u001b[0m \u001b[0mkwds\u001b[0m\u001b[0;34m[\u001b[0m\u001b[0;34m\"has_index_names\"\u001b[0m\u001b[0;34m]\u001b[0m\u001b[0;34m\u001b[0m\u001b[0;34m\u001b[0m\u001b[0m\n\u001b[1;32m    818\u001b[0m \u001b[0;34m\u001b[0m\u001b[0m\n\u001b[0;32m--> 819\u001b[0;31m         \u001b[0mself\u001b[0m\u001b[0;34m.\u001b[0m\u001b[0m_engine\u001b[0m \u001b[0;34m=\u001b[0m \u001b[0mself\u001b[0m\u001b[0;34m.\u001b[0m\u001b[0m_make_engine\u001b[0m\u001b[0;34m(\u001b[0m\u001b[0mself\u001b[0m\u001b[0;34m.\u001b[0m\u001b[0mengine\u001b[0m\u001b[0;34m)\u001b[0m\u001b[0;34m\u001b[0m\u001b[0;34m\u001b[0m\u001b[0m\n\u001b[0m\u001b[1;32m    820\u001b[0m \u001b[0;34m\u001b[0m\u001b[0m\n\u001b[1;32m    821\u001b[0m     \u001b[0;32mdef\u001b[0m \u001b[0mclose\u001b[0m\u001b[0;34m(\u001b[0m\u001b[0mself\u001b[0m\u001b[0;34m)\u001b[0m\u001b[0;34m:\u001b[0m\u001b[0;34m\u001b[0m\u001b[0;34m\u001b[0m\u001b[0m\n",
      "\u001b[0;32m~/Library/Python/3.8/lib/python/site-packages/pandas/io/parsers.py\u001b[0m in \u001b[0;36m_make_engine\u001b[0;34m(self, engine)\u001b[0m\n\u001b[1;32m   1048\u001b[0m             )\n\u001b[1;32m   1049\u001b[0m         \u001b[0;31m# error: Too many arguments for \"ParserBase\"\u001b[0m\u001b[0;34m\u001b[0m\u001b[0;34m\u001b[0m\u001b[0;34m\u001b[0m\u001b[0m\n\u001b[0;32m-> 1050\u001b[0;31m         \u001b[0;32mreturn\u001b[0m \u001b[0mmapping\u001b[0m\u001b[0;34m[\u001b[0m\u001b[0mengine\u001b[0m\u001b[0;34m]\u001b[0m\u001b[0;34m(\u001b[0m\u001b[0mself\u001b[0m\u001b[0;34m.\u001b[0m\u001b[0mf\u001b[0m\u001b[0;34m,\u001b[0m \u001b[0;34m**\u001b[0m\u001b[0mself\u001b[0m\u001b[0;34m.\u001b[0m\u001b[0moptions\u001b[0m\u001b[0;34m)\u001b[0m  \u001b[0;31m# type: ignore[call-arg]\u001b[0m\u001b[0;34m\u001b[0m\u001b[0;34m\u001b[0m\u001b[0m\n\u001b[0m\u001b[1;32m   1051\u001b[0m \u001b[0;34m\u001b[0m\u001b[0m\n\u001b[1;32m   1052\u001b[0m     \u001b[0;32mdef\u001b[0m \u001b[0m_failover_to_python\u001b[0m\u001b[0;34m(\u001b[0m\u001b[0mself\u001b[0m\u001b[0;34m)\u001b[0m\u001b[0;34m:\u001b[0m\u001b[0;34m\u001b[0m\u001b[0;34m\u001b[0m\u001b[0m\n",
      "\u001b[0;32m~/Library/Python/3.8/lib/python/site-packages/pandas/io/parsers.py\u001b[0m in \u001b[0;36m__init__\u001b[0;34m(self, src, **kwds)\u001b[0m\n\u001b[1;32m   1865\u001b[0m \u001b[0;34m\u001b[0m\u001b[0m\n\u001b[1;32m   1866\u001b[0m         \u001b[0;31m# open handles\u001b[0m\u001b[0;34m\u001b[0m\u001b[0;34m\u001b[0m\u001b[0;34m\u001b[0m\u001b[0m\n\u001b[0;32m-> 1867\u001b[0;31m         \u001b[0mself\u001b[0m\u001b[0;34m.\u001b[0m\u001b[0m_open_handles\u001b[0m\u001b[0;34m(\u001b[0m\u001b[0msrc\u001b[0m\u001b[0;34m,\u001b[0m \u001b[0mkwds\u001b[0m\u001b[0;34m)\u001b[0m\u001b[0;34m\u001b[0m\u001b[0;34m\u001b[0m\u001b[0m\n\u001b[0m\u001b[1;32m   1868\u001b[0m         \u001b[0;32massert\u001b[0m \u001b[0mself\u001b[0m\u001b[0;34m.\u001b[0m\u001b[0mhandles\u001b[0m \u001b[0;32mis\u001b[0m \u001b[0;32mnot\u001b[0m \u001b[0;32mNone\u001b[0m\u001b[0;34m\u001b[0m\u001b[0;34m\u001b[0m\u001b[0m\n\u001b[1;32m   1869\u001b[0m         \u001b[0;32mfor\u001b[0m \u001b[0mkey\u001b[0m \u001b[0;32min\u001b[0m \u001b[0;34m(\u001b[0m\u001b[0;34m\"storage_options\"\u001b[0m\u001b[0;34m,\u001b[0m \u001b[0;34m\"encoding\"\u001b[0m\u001b[0;34m,\u001b[0m \u001b[0;34m\"memory_map\"\u001b[0m\u001b[0;34m,\u001b[0m \u001b[0;34m\"compression\"\u001b[0m\u001b[0;34m)\u001b[0m\u001b[0;34m:\u001b[0m\u001b[0;34m\u001b[0m\u001b[0;34m\u001b[0m\u001b[0m\n",
      "\u001b[0;32m~/Library/Python/3.8/lib/python/site-packages/pandas/io/parsers.py\u001b[0m in \u001b[0;36m_open_handles\u001b[0;34m(self, src, kwds)\u001b[0m\n\u001b[1;32m   1360\u001b[0m         \u001b[0mLet\u001b[0m \u001b[0mthe\u001b[0m \u001b[0mreaders\u001b[0m \u001b[0mopen\u001b[0m \u001b[0mIOHanldes\u001b[0m \u001b[0mafter\u001b[0m \u001b[0mthey\u001b[0m \u001b[0mare\u001b[0m \u001b[0mdone\u001b[0m \u001b[0;32mwith\u001b[0m \u001b[0mtheir\u001b[0m \u001b[0mpotential\u001b[0m \u001b[0mraises\u001b[0m\u001b[0;34m.\u001b[0m\u001b[0;34m\u001b[0m\u001b[0;34m\u001b[0m\u001b[0m\n\u001b[1;32m   1361\u001b[0m         \"\"\"\n\u001b[0;32m-> 1362\u001b[0;31m         self.handles = get_handle(\n\u001b[0m\u001b[1;32m   1363\u001b[0m             \u001b[0msrc\u001b[0m\u001b[0;34m,\u001b[0m\u001b[0;34m\u001b[0m\u001b[0;34m\u001b[0m\u001b[0m\n\u001b[1;32m   1364\u001b[0m             \u001b[0;34m\"r\"\u001b[0m\u001b[0;34m,\u001b[0m\u001b[0;34m\u001b[0m\u001b[0;34m\u001b[0m\u001b[0m\n",
      "\u001b[0;32m~/Library/Python/3.8/lib/python/site-packages/pandas/io/common.py\u001b[0m in \u001b[0;36mget_handle\u001b[0;34m(path_or_buf, mode, encoding, compression, memory_map, is_text, errors, storage_options)\u001b[0m\n\u001b[1;32m    645\u001b[0m                 \u001b[0merrors\u001b[0m \u001b[0;34m=\u001b[0m \u001b[0;34m\"replace\"\u001b[0m\u001b[0;34m\u001b[0m\u001b[0;34m\u001b[0m\u001b[0m\n\u001b[1;32m    646\u001b[0m             \u001b[0;31m# Encoding\u001b[0m\u001b[0;34m\u001b[0m\u001b[0;34m\u001b[0m\u001b[0;34m\u001b[0m\u001b[0m\n\u001b[0;32m--> 647\u001b[0;31m             handle = open(\n\u001b[0m\u001b[1;32m    648\u001b[0m                 \u001b[0mhandle\u001b[0m\u001b[0;34m,\u001b[0m\u001b[0;34m\u001b[0m\u001b[0;34m\u001b[0m\u001b[0m\n\u001b[1;32m    649\u001b[0m                 \u001b[0mioargs\u001b[0m\u001b[0;34m.\u001b[0m\u001b[0mmode\u001b[0m\u001b[0;34m,\u001b[0m\u001b[0;34m\u001b[0m\u001b[0;34m\u001b[0m\u001b[0m\n",
      "\u001b[0;31mFileNotFoundError\u001b[0m: [Errno 2] No such file or directory: 'edge_test.csv'"
     ]
    }
   ],
   "source": [
    "simulator = _scnnoise.gillespieSDMnoCellCycle(sim.num_rxns, sim.num_genes, sim.num_species_genes, sim.num_rxns_gene_type, sim.max_time, True, 10000, sim.count_save_file)\n",
    "\n",
    "\n",
    "simulator.add_gene_state(0, 0 ,[2], [3], [0,2,0,0], [[1],[0],[0],[2],[2],[3]], [[0],[1],[0,2],[],[2,3],[]], [[1],[1],[1],[1],[1],[1]], [[1],[0],[0],[2],[2],[3]], [1,2,3,4,5,6],  [2,0,0,0,0,0])\n",
    "simulator.add_gene_state(1, 0 ,[2], [3], [0,2,0,0], [[1],[0],[0],[2],[2],[3]], [[0],[1],[0,2],[0],[2,3],[0]], [[1],[1],[1],[1],[1],[1]], [[1],[1],[1,1],[0],[1,1],[0]], [1,2,3,4,5,6],  [2,0,0,0,0,0])\n",
    "\n",
    " #void scNNoiSE::add_GRN_edge (int src, int dest, double prob_contr,\n",
    "    #double hill_coeff, double half_maximal, int rxn_IN, int species_OUT,\n",
    "    #bool activator)\n",
    "edge_list = pd.read_csv(sim.edge_list_csv)\n",
    "\n",
    "simulator.add_GRN_edge(edge_list['src'][0], edge_list['dest'][0], edge_list['prob_contr'][0], edge_list['hill_coeff'][0], edge_list['half_maximal'][0], edge_list['rxn_IN'][0], edge_list['species_OUT'][0],edge_list['activator'][0])"
   ]
  },
  {
   "cell_type": "code",
   "execution_count": 17,
   "id": "f97c4b1d",
   "metadata": {},
   "outputs": [
    {
     "data": {
      "text/plain": [
       "0"
      ]
     },
     "execution_count": 17,
     "metadata": {},
     "output_type": "execute_result"
    }
   ],
   "source": [
    "edge_list['src'][0]"
   ]
  },
  {
   "cell_type": "code",
   "execution_count": null,
   "id": "60230dfb",
   "metadata": {},
   "outputs": [],
   "source": []
  }
 ],
 "metadata": {
  "kernelspec": {
   "display_name": "Python 3",
   "language": "python",
   "name": "python3"
  },
  "language_info": {
   "codemirror_mode": {
    "name": "ipython",
    "version": 3
   },
   "file_extension": ".py",
   "mimetype": "text/x-python",
   "name": "python",
   "nbconvert_exporter": "python",
   "pygments_lexer": "ipython3",
   "version": "3.8.2"
  }
 },
 "nbformat": 4,
 "nbformat_minor": 5
}
