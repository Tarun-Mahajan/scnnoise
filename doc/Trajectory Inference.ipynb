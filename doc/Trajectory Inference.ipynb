{
 "cells": [
  {
   "cell_type": "code",
   "execution_count": 20,
   "id": "3fd61690",
   "metadata": {},
   "outputs": [],
   "source": [
    "class LTSim:\n",
    "    def __init__(self, root):\n",
    "        \"\"\"\n",
    "        Constructor for the LTSim object\n",
    "        Takes in the root of the LineageTree in the simulation\n",
    "        \"\"\"\n",
    "        self.root = root    #cell Type\n",
    "\n",
    "    def sim_LT(num_samples):\n",
    "        \"\"\"\n",
    "        Outputs a n x g Matrix (n cells by g Genes) of raw mRNA counts\n",
    "        \"\"\"\n",
    "        #Step 1: Construct simulator object\n",
    "        #a. build GRN from params\n",
    "        #b. define intragene interactions\n",
    "        \n",
    "        #Step 2: Run sim_cell_type() on root\n",
    "        self.root.sim_cell_type(num_samples, simulator)\n",
    "        \n",
    "        #Step 3: return result file, or data structure\n",
    "            \n",
    "            \n",
    "        return self.sample"
   ]
  },
  {
   "cell_type": "code",
   "execution_count": 21,
   "id": "57660941",
   "metadata": {},
   "outputs": [],
   "source": [
    "class cellType:\n",
    "    def __init__(self, lineageName,rxn_rates, children):\n",
    "        \"\"\"\n",
    "        Takes in rxn_rates and children and constructs a cellType node\n",
    "        \"\"\"\n",
    "        #get rate parameters from external file or otherwise\n",
    "        self.lineageName = lineageName\n",
    "        self.rxn_rates = rxn_rates\n",
    "        self.children = children\n",
    "\n",
    "    def sim_cell_type(num_samples, simulator):\n",
    "        \"\"\"\n",
    "        Params\n",
    "            num_samples - number of sample reads to output for this cell type\n",
    "            simulator -  a simulator object used to simulate  the system\n",
    "            \n",
    "        Simulates num_samples reads of cellType \n",
    "        and outputs num_samples x genes Matrix of raw mRNA counts\n",
    "        \"\"\"\n",
    "        #Recursive function (careful with passing by reference/by copy)\n",
    "        #Step 1: simulate gene expression to steady state\n",
    "        #Step 2: Sample num_samples reads for each gene\n",
    "        #Step 3: Recusively run sim_transition() and sim_cell_type() on all children (this could be parallelized)\n",
    "        \n",
    "        #base case\n",
    "        if len(children) == 0:\n",
    "            return \n",
    "        \n",
    "        #recursive case\n",
    "        else:\n",
    "            for cell_type in self.children:\n",
    "                cell_type.sim_transition(num_samples, simulator)\n",
    "                cell_type.sim_cell_type(num_samples, simulator)\n",
    "        \n",
    "    def sim_transition(num_samples, simulator):\n",
    "        \"\"\"\n",
    "        Params\n",
    "            num_samples - number of sample reads to output for this cell type\n",
    "            simulator -  a simulator object used to simulate  the system\n",
    "            \n",
    "        Simulates num_samples reads of cells transitioning from the parent cell type \n",
    "        and outputs num_samples x genes Matrix of raw mRNA counts\n",
    "        \"\"\"\n",
    "        #helper (careful with passing by reference/by copy)\n",
    "        #Step 1: simluate transition from parent steady state to daughter steady state\n",
    "            #a. here we check when the system reaches a new steady state and sample before then\n",
    "            #b. if steady states are similar mbe set simulation time?\n",
    "        #Step 2: Sample num_sample transition cells and store to output\n",
    "        \n",
    "        "
   ]
  },
  {
   "cell_type": "code",
   "execution_count": 16,
   "id": "fe08e97c",
   "metadata": {},
   "outputs": [
    {
     "data": {
      "text/plain": [
       "4"
      ]
     },
     "execution_count": 16,
     "metadata": {},
     "output_type": "execute_result"
    }
   ],
   "source": [
    "### Testing cellType creation\n",
    "c4 = cellType(4,[1,2,3,4],[]) #placeholder reaction rates\n",
    "c3 = cellType(3,[1,2,3,4],[c4]) \n",
    "c2 = cellType(2,[1,2,3,4],[]) \n",
    "c1 = cellType(1,[1,2,3,4],[c2,c3]) \n",
    " \n",
    "c1.children[1].children[0].lineageName #should output 4"
   ]
  },
  {
   "cell_type": "code",
   "execution_count": 27,
   "id": "18d4c337",
   "metadata": {},
   "outputs": [
    {
     "name": "stdout",
     "output_type": "stream",
     "text": [
      "/Users/lukakarginov/Documents/Dar Lab\n"
     ]
    }
   ],
   "source": [
    "%cd /Users/lukakarginov/Documents/Dar Lab/"
   ]
  },
  {
   "cell_type": "code",
   "execution_count": 26,
   "id": "56106a80",
   "metadata": {},
   "outputs": [
    {
     "ename": "ImportError",
     "evalue": "cannot import name '_scnnoise' from 'scnnoise' (unknown location)",
     "output_type": "error",
     "traceback": [
      "\u001b[0;31m---------------------------------------------------------------------------\u001b[0m",
      "\u001b[0;31mImportError\u001b[0m                               Traceback (most recent call last)",
      "\u001b[0;32m<ipython-input-26-728635ccacd6>\u001b[0m in \u001b[0;36m<module>\u001b[0;34m\u001b[0m\n\u001b[0;32m----> 1\u001b[0;31m \u001b[0;32mfrom\u001b[0m \u001b[0mscnnoise\u001b[0m \u001b[0;32mimport\u001b[0m \u001b[0m_scnnoise\u001b[0m\u001b[0;34m\u001b[0m\u001b[0;34m\u001b[0m\u001b[0m\n\u001b[0m",
      "\u001b[0;31mImportError\u001b[0m: cannot import name '_scnnoise' from 'scnnoise' (unknown location)"
     ]
    }
   ],
   "source": [
    "from scnnoise import _scnnoise"
   ]
  },
  {
   "cell_type": "code",
   "execution_count": null,
   "id": "f157472a",
   "metadata": {},
   "outputs": [],
   "source": []
  }
 ],
 "metadata": {
  "kernelspec": {
   "display_name": "Python 3",
   "language": "python",
   "name": "python3"
  },
  "language_info": {
   "codemirror_mode": {
    "name": "ipython",
    "version": 3
   },
   "file_extension": ".py",
   "mimetype": "text/x-python",
   "name": "python",
   "nbconvert_exporter": "python",
   "pygments_lexer": "ipython3",
   "version": "3.8.2"
  }
 },
 "nbformat": 4,
 "nbformat_minor": 5
}
