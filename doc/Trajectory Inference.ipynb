{
 "cells": [
  {
   "cell_type": "code",
   "execution_count": 2,
   "id": "3fd61690",
   "metadata": {},
   "outputs": [],
   "source": [
    "class LTSim:\n",
    "    def __init__(self, root, num_samples):\n",
    "        \"\"\"\n",
    "        Constructor for the LTSim object\n",
    "        Takes in the root of the LineageTree and the number of samples in the simulation\n",
    "        \"\"\"\n",
    "        self.root = root    #cell Type\n",
    "        self.num_samples = num_samples     #number of samples\n",
    "\n",
    "    def sim_LT():\n",
    "        \"\"\"\n",
    "        Outputs a n x g Matrix (n cells by g Genes) of raw mRNA counts\n",
    "        \"\"\"\n",
    "        return self.sample"
   ]
  },
  {
   "cell_type": "code",
   "execution_count": 18,
   "id": "57660941",
   "metadata": {},
   "outputs": [],
   "source": [
    "class cellType:\n",
    "    def __init__(self, lineageName,rxn_rates, children):\n",
    "        \"\"\"\n",
    "        Takes in rxn_rates and children and constructs a cellType node\n",
    "        \"\"\"\n",
    "        #get rate parameters from external file or otherwise\n",
    "        self.lineageName = lineageName\n",
    "        self.rxn_rates = rxn_rates\n",
    "        self.children = children\n",
    "\n",
    "    def sim_cell_type(num_samples, simulator):\n",
    "        \"\"\"\n",
    "        Params\n",
    "            num_samples - number of sample reads to output for this cell type\n",
    "            simulator -  a simulator object used to simulate  the system\n",
    "            \n",
    "        Simulates num_samples reads of cellType \n",
    "        and outputs num_samples x genes Matrix of raw mRNA counts\n",
    "        \"\"\"\n",
    "        \n",
    "    def sim_transition(num_samples, simulator):\n",
    "        \"\"\"\n",
    "        Params\n",
    "            num_samples - number of sample reads to output for this cell type\n",
    "            simulator -  a simulator object used to simulate  the system\n",
    "            \n",
    "        Simulates num_samples reads of cells transitioning from the parent cell type \n",
    "        and outputs num_samples x genes Matrix of raw mRNA counts\n",
    "        \"\"\"\n",
    "        "
   ]
  },
  {
   "cell_type": "code",
   "execution_count": 16,
   "id": "fe08e97c",
   "metadata": {},
   "outputs": [
    {
     "data": {
      "text/plain": [
       "4"
      ]
     },
     "execution_count": 16,
     "metadata": {},
     "output_type": "execute_result"
    }
   ],
   "source": [
    "### Testing cellType creation\n",
    "c4 = cellType(4,[1,2,3,4],[]) #placeholder reaction rates\n",
    "c3 = cellType(3,[1,2,3,4],[c4]) \n",
    "c2 = cellType(2,[1,2,3,4],[]) \n",
    "c1 = cellType(1,[1,2,3,4],[c2,c3]) \n",
    " \n",
    "c1.children[1].children[0].lineageName #should output 4"
   ]
  },
  {
   "cell_type": "code",
   "execution_count": null,
   "id": "75352677",
   "metadata": {},
   "outputs": [],
   "source": []
  }
 ],
 "metadata": {
  "kernelspec": {
   "display_name": "Python 3",
   "language": "python",
   "name": "python3"
  },
  "language_info": {
   "codemirror_mode": {
    "name": "ipython",
    "version": 3
   },
   "file_extension": ".py",
   "mimetype": "text/x-python",
   "name": "python",
   "nbconvert_exporter": "python",
   "pygments_lexer": "ipython3",
   "version": "3.8.2"
  }
 },
 "nbformat": 4,
 "nbformat_minor": 5
}
