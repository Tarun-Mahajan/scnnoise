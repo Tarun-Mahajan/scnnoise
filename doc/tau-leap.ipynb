{
 "cells": [
  {
   "cell_type": "code",
   "execution_count": 203,
   "metadata": {},
   "outputs": [],
   "source": [
    "#Module for Gillespie's Stochastic Simulation Algorithm\n",
    "import numpy as np\n",
    "import pandas as pd\n",
    "import itertools\n",
    "import random\n",
    "class GillespieAlgorithm:\n",
    "    def __init__(self, forward_rxn_list, backward_rxn_list, \\\n",
    "    rxn_rates, nSpecies, \\\n",
    "    rate_modulation_list = None, cell_divison = None, \\\n",
    "    dosage_compensation = None, growth_dependence = None, \\\n",
    "    replication_time = None, division_time = None, partition_prob = None):\n",
    "        \"\"\"\n",
    "        forward_rxn_list: A three-column matrix where for each row, the first\n",
    "        entry is the id for a molecular species, the second entry is the\n",
    "        id for a chemical reaction and the third entry is the coefficient for\n",
    "        the aforementioned molceular species in the output of the\n",
    "        aforementioned reaction.\n",
    "\n",
    "        backward_rxn_list: A three-column matrix where for each row, the first\n",
    "        entry is the id for a molecular species, the second entry is the\n",
    "        id for a chemical reaction and the third entry is the coefficient for\n",
    "        the aforementioned molceular species in the input of the\n",
    "        aforementioned reaction.\n",
    "\n",
    "        rxn_rates: A vector containing the rates for all the reactions.\n",
    "\n",
    "        rate_modulation_list: A list of lists of size 'number of reactions'.\n",
    "        For each element in the list, the first half of the elements gives the\n",
    "        ids of the molecular species which affect the reaction rate for that\n",
    "        reaction. The magintude of the second half of entries gives the\n",
    "        magintude by which the molecular species in the corresponding entries\n",
    "        in the first half affect the reaction rate and the sign tells whether\n",
    "        the effect is activating (positive) or repressing (negative).\n",
    "\n",
    "        mol_count_constraints: A list of lists encoding the constraints on the\n",
    "        additive relationships between the molecular species. If a subset of\n",
    "        molecular species are constrained such that the sum of their counts is\n",
    "        constant, then all of these species will be present as a list in one of\n",
    "        the entries in this variable; the last element gives the constant value\n",
    "        of the sum. For species which do not adhere to such contraints, the last\n",
    "        element is -1.\n",
    "\n",
    "        nSpecies: Number of different molecular species.\n",
    "\n",
    "        \"\"\"\n",
    "\n",
    "        self.rxn_rates = rxn_rates\n",
    "        self.nSpecies = nSpecies\n",
    "        self.rate_modulation_list = rate_modulation_list\n",
    "        self.forward_rxn_list = forward_rxn_list\n",
    "        array_ = forward_rxn_list[:, 1]\n",
    "        self.nReactions = len(dict(enumerate(array_.flatten(), 1)))\n",
    "        self.backward_rxn_list = backward_rxn_list\n",
    "        self.cell_divison = cell_divison\n",
    "        self.dosage_compensation = dosage_compensation\n",
    "        self.growth_dependence = growth_dependence\n",
    "        self.time_step = None\n",
    "        self.propensity = [None] * len(self.rxn_rates)\n",
    "        self.sampled_rxn_id = None\n",
    "        self.molecule_count = [None] * self.nSpecies\n",
    "        self.time_list = [None]\n",
    "\n",
    "    def propensity_count_prod(self, mol_count, rxn_coeff):\n",
    "        prod_factor = mol_count\n",
    "        if rxn_coeff - 1 > 0:\n",
    "            for _ in range(rxn_coeff - 1):\n",
    "                prod_factor *= mol_count - _ - 1\n",
    "        return prod_factor\n",
    "\n",
    "    def calculate_propensity(self, molecule_count):\n",
    "        for _ in range(len(self.rxn_rates)):\n",
    "            self.propensity[_] = self.rxn_rates[_] #propensity list for all the reactions\n",
    "        if self.cell_divison == None and self.dosage_compensation == None and \\\n",
    "        self.growth_dependence == None:\n",
    "            for _ in range((self.backward_rxn_list).shape[0]):\n",
    "                if self.backward_rxn_list[_, 2] != 0:\n",
    "                    self.propensity[self.backward_rxn_list[_, 1]] *= \\\n",
    "                    self.propensity_count_prod(\\\n",
    "                    molecule_count[self.backward_rxn_list[_, 0]], \\\n",
    "                    self.backward_rxn_list[_, 2])\n",
    "\n",
    "    def sample_time_step(self):\n",
    "        a0 = sum(self.propensity)\n",
    "        r1 = np.random.uniform()\n",
    "        self.time_step = -np.log(r1)/a0\n",
    "\n",
    "    def sample_rxn_id(self):\n",
    "        self.sampled_rxn_id = -1\n",
    "        a0 = sum(self.propensity)\n",
    "        r2 = np.random.uniform()\n",
    "        test = 0\n",
    "        count = -1\n",
    "        while test < a0*r2:\n",
    "            count += 1\n",
    "            test += self.propensity[count]\n",
    "        self.sampled_rxn_id = count\n",
    "\n",
    "    def update_molecule_count(self, molecule_count):\n",
    "        count_change = [0] * self.nSpecies\n",
    "        for _ in range((self.forward_rxn_list).shape[0]):\n",
    "            if self.forward_rxn_list[_, 1] == self.sampled_rxn_id:\n",
    "                count_change[self.forward_rxn_list[_, 0]] += \\\n",
    "                self.forward_rxn_list[_, 2]\n",
    "\n",
    "        for _ in range((self.backward_rxn_list).shape[0]):\n",
    "            if self.backward_rxn_list[_, 1] == self.sampled_rxn_id:\n",
    "                count_change[self.backward_rxn_list[_, 0]] -= \\\n",
    "                self.backward_rxn_list[_, 2]\n",
    "\n",
    "        for _ in range(self.nSpecies):\n",
    "            molecule_count[_] += count_change[_]\n",
    "        return molecule_count\n",
    "\n",
    "    def simulate(self, time_, molecule_count):\n",
    "        time_list = [0]\n",
    "        molecule_count_cur = [None] * self.nSpecies\n",
    "        while sum(time_list) < time_:\n",
    "#             print('Time = ' + str(sum(time_list)))\n",
    "            for _ in range(self.nSpecies):\n",
    "                molecule_count_cur[_] = molecule_count[_][-1]\n",
    "            self.calculate_propensity(molecule_count_cur)\n",
    "            self.sample_time_step()\n",
    "            time_list.append(self.time_step)\n",
    "            self.sample_rxn_id()\n",
    "            molecule_count_cur = self.update_molecule_count(molecule_count_cur)\n",
    "            for _ in range(self.nSpecies):\n",
    "                (molecule_count[_]).append(molecule_count_cur[_])\n",
    "        self.time_list = time_list\n",
    "        self.molecule_count = molecule_count\n",
    "   \n",
    "    def construct_v(self):\n",
    "        v = np.zeros((self.nSpecies,len(self.rxn_rates)), dtype = int)\n",
    "        for mol in range(self.nSpecies):\n",
    "            for rxn in range(len(self.rxn_rates)):\n",
    "                for x in self.forward_rxn_list:\n",
    "                    if x[0] == mol and x[1] == rxn:\n",
    "                        v[mol][rxn] = x[2]\n",
    "                        break\n",
    "    \n",
    "                for x in self.backward_rxn_list:\n",
    "                    if x[0] == mol and x[1] == rxn:\n",
    "                        v[mol][rxn] -= x[2]\n",
    "                        break\n",
    "        #print(v)\n",
    "        return v\n",
    "\n",
    "    def check_order(self, epsilon):\n",
    "        epsilon_list = []\n",
    "        for _ in range(len(self.rxn_rates)):\n",
    "            epsilon_list.append(epsilon)\n",
    "        return epsilon_list\n",
    "        \n",
    "    def crit_rxns(self, n_c, molecule_count_cur, v):\n",
    "        is_crit_rxn = np.zeros(len(self.rxn_rates),dtype = bool)\n",
    "        is_crit_mol = np.zeros(self.nSpecies,dtype = bool)\n",
    "        for x in self.backward_rxn_list:\n",
    "            if v[x[0]][x[1]]<0:\n",
    "                num_poss_rxns = molecule_count_cur[x[0]]/v[x[0]][x[1]]\n",
    "                if (-1*num_poss_rxns)<n_c:\n",
    "                    is_crit_rxn[x[1]] = True\n",
    "                    is_crit_mol[x[1]] = True\n",
    "        crit_rxns = []\n",
    "        non_crit_rxns = []\n",
    "        non_crit_mols = []\n",
    "        for idx,_ in enumerate(is_crit_rxn):\n",
    "            if _:\n",
    "                crit_rxns.append(idx)\n",
    "            else:\n",
    "                non_crit_rxns.append(idx)\n",
    "        \n",
    "        for idx,_ in enumerate(is_crit_mol):\n",
    "            if not _:\n",
    "                non_crit_mols.append(idx)\n",
    "        return crit_rxns, non_crit_rxns, non_crit_mols\n",
    "    \n",
    "    def pick_tau_noncrit(self, molecule_count_cur, v, epsilon_list, non_crit_mols, non_crit_rxns):\n",
    "        pick_tau_noncrit = [np.inf]\n",
    "        for mol in range(self.nSpecies):\n",
    "            top = max(epsilon_list[mol]*molecule_count_cur[mol],1)\n",
    "            mean = 0\n",
    "            var = 0\n",
    "            for rxn in non_crit_rxns:\n",
    "                mean += v[mol][rxn]*self.propensity[rxn]\n",
    "                var += (v[mol][rxn]**2)*self.propensity[rxn]\n",
    "            pick_tau_noncrit.append(min(top/np.abs(mean), (top**2)/var))\n",
    "        return min(pick_tau_noncrit) \n",
    "    \n",
    "    def pick_tau_crit(self, crit_rxns):\n",
    "        if len(crit_rxns) == 0:\n",
    "            return np.inf\n",
    "        a0c = 0\n",
    "        for rxn in crit_rxns:\n",
    "            a0c += self.propensity[rxn]\n",
    "        r1 = np.random.uniform()\n",
    "        return -np.log(r1)/a0c\n",
    "    \n",
    "    def pick_tau(self,tau_crit, tau_noncrit, crit_rxns):\n",
    "        if tau_noncrit<tau_crit:\n",
    "            self.time_step = tau_noncrit\n",
    "            self.sampled_rxn_id = -1\n",
    "        else:\n",
    "            self.time_step = tau_crit\n",
    "            self.pick_rxn_crit(crit_rxns)\n",
    "            \n",
    "    def pick_rxn_crit(self, crit_rxns):\n",
    "        self.sampled_rxn_id = -1\n",
    "        if len(crit_rxns) != 0:\n",
    "            a0c = 0\n",
    "            for rxn in crit_rxns:\n",
    "                a0c += self.propensity[rxn]\n",
    "            r2 = np.random.uniform()\n",
    "            test = 0\n",
    "            count = -1\n",
    "            while test < a0c*r2:\n",
    "                count += 1\n",
    "                test += self.propensity[crit_rxns[count]]\n",
    "            if count == -1:\n",
    "                self.sampled_rxn_id = -1\n",
    "            else:\n",
    "                self.sampled_rxn_id = crit_rxns[count]\n",
    "            \n",
    "    \n",
    "    \n",
    "    def update_tau_leap(self, tau_noncrit, tau_crit, molecule_count_cur, non_crit_rxns, crit_rxns,v):\n",
    "        for rxn in non_crit_rxns:\n",
    "            occurs = np.random.poisson(self.propensity[rxn]*self.time_step)\n",
    "            for mol in range(self.nSpecies):\n",
    "                molecule_count_cur[mol] += occurs*v[mol][rxn]\n",
    "        if self.sampled_rxn_id != -1:\n",
    "            for mol in range(self.nSpecies):\n",
    "                molecule_count_cur[mol] += v[mol][rxn]\n",
    "        return molecule_count_cur\n",
    "        \n",
    "    def wrapper(self,tau_noncrit, tau_crit, molecule_count_cur, non_crit_rxns, crit_rxns,v):\n",
    "        #check if it saves time later\n",
    "        if tau_noncrit < 1/sum(self.propensity):\n",
    "            print('run gillespie')\n",
    "        self.pick_tau(tau_crit, tau_noncrit, crit_rxns)\n",
    "        if self.time_step == np.inf:\n",
    "            return molecule_count_cur\n",
    "        molecule_count_copy = self.update_tau_leap(tau_noncrit, tau_crit, molecule_count_cur, non_crit_rxns, crit_rxns,v)\n",
    "        if min(molecule_count_copy)>=0:\n",
    "            return molecule_count_copy\n",
    "        else:\n",
    "            self.time_step/=2\n",
    "            return self.wrapper(tau_noncrit/2, tau_crit, molecule_count_cur, non_crit_rxns, crit_rxns,v)\n",
    "        \n",
    "    def tau_leap_simulate(self, time_, molecule_count, n_c, epsilon):\n",
    "        time_list = [0]\n",
    "        v = self.construct_v()\n",
    "        molecule_count_cur = [None] * self.nSpecies\n",
    "        epsilon_list = self.check_order(epsilon)\n",
    "        while sum(time_list) < time_:\n",
    "            for _ in range(self.nSpecies):\n",
    "                molecule_count_cur[_] = molecule_count[_][-1]\n",
    "            crit_rxns, non_crit_rxns, non_crit_mols = self.crit_rxns(n_c, molecule_count_cur, v)\n",
    "            self.calculate_propensity(molecule_count_cur)\n",
    "            tau_noncrit =  self.pick_tau_noncrit(molecule_count_cur, v, epsilon_list, non_crit_mols, non_crit_rxns)\n",
    "            tau_crit = self.pick_tau_crit(crit_rxns)\n",
    "            #print(tau_crit)\n",
    "            #print(tau_noncrit)\n",
    "            molecule_count_cur = self.wrapper(tau_noncrit, tau_crit, molecule_count_cur, non_crit_rxns, crit_rxns,v)\n",
    "            time_list.append(self.time_step)\n",
    "            for _ in range(self.nSpecies):\n",
    "                (molecule_count[_]).append(molecule_count_cur[_])\n",
    "            self.time_list = time_list\n",
    "            self.molecule_count = molecule_count"
   ]
  },
  {
   "cell_type": "code",
   "execution_count": 225,
   "metadata": {},
   "outputs": [],
   "source": [
    "forward_rxn_list, backward_rxn_list = np.zeros((4, 3), int), np.zeros((4, 3), int)\n",
    "forward_rxn_list[0, 0] = 0\n",
    "forward_rxn_list[0, 1] = 0\n",
    "forward_rxn_list[0, 2] = 1\n",
    "forward_rxn_list[1, 0] = 0\n",
    "forward_rxn_list[1, 1] = 2\n",
    "forward_rxn_list[1, 2] = 1\n",
    "forward_rxn_list[2, 0] = 1\n",
    "forward_rxn_list[2, 1] = 1\n",
    "forward_rxn_list[2, 2] = 1\n",
    "forward_rxn_list[3, 0] = 2\n",
    "forward_rxn_list[3, 1] = 0\n",
    "forward_rxn_list[3, 2] = 1\n",
    "backward_rxn_list[0, 0] = 0\n",
    "backward_rxn_list[0, 1] = 0\n",
    "backward_rxn_list[0, 2] = 1\n",
    "backward_rxn_list[1, 0] = 0\n",
    "backward_rxn_list[1, 1] = 1\n",
    "backward_rxn_list[1, 2] = 1\n",
    "backward_rxn_list[2, 0] = 1\n",
    "backward_rxn_list[2, 1] = 2\n",
    "backward_rxn_list[2, 2] = 1\n",
    "backward_rxn_list[3, 0] = 2\n",
    "backward_rxn_list[3, 1] = 3\n",
    "backward_rxn_list[3, 2] = 1\n",
    "rxn_rates = [300, 10, 2, 1]\n",
    "nSpecies = 3"
   ]
  },
  {
   "cell_type": "code",
   "execution_count": 226,
   "metadata": {},
   "outputs": [
    {
     "name": "stdout",
     "output_type": "stream",
     "text": [
      "300 10 2 1\n"
     ]
    },
    {
     "name": "stderr",
     "output_type": "stream",
     "text": [
      "/Users/lukakarginov/anaconda3/lib/python3.7/site-packages/ipykernel_launcher.py:185: RuntimeWarning: divide by zero encountered in long_scalars\n"
     ]
    }
   ],
   "source": [
    "time_ = 10\n",
    "molecule_count = [[1], [1],[10]]\n",
    "two_state = GillespieAlgorithm(forward_rxn_list, backward_rxn_list, rxn_rates, nSpecies)\n",
    "# two_state.calculate_propensity(molecule_count)\n",
    "# print(*rxn_rates)\n",
    "# two_state.sampled_rxn_id = 0\n",
    "\n",
    "two_state.tau_leap_simulate(time_, molecule_count, 10, .05)\n",
    "print(*rxn_rates)"
   ]
  },
  {
   "cell_type": "code",
   "execution_count": 222,
   "metadata": {},
   "outputs": [
    {
     "name": "stderr",
     "output_type": "stream",
     "text": [
      "/Users/lukakarginov/anaconda3/lib/python3.7/site-packages/ipykernel_launcher.py:185: RuntimeWarning: divide by zero encountered in long_scalars\n",
      "/Users/lukakarginov/anaconda3/lib/python3.7/site-packages/ipykernel_launcher.py:185: RuntimeWarning: divide by zero encountered in double_scalars\n"
     ]
    },
    {
     "ename": "KeyboardInterrupt",
     "evalue": "",
     "output_type": "error",
     "traceback": [
      "\u001b[0;31m---------------------------------------------------------------------------\u001b[0m",
      "\u001b[0;31mKeyboardInterrupt\u001b[0m                         Traceback (most recent call last)",
      "\u001b[0;32m<ipython-input-222-ccb1fd55fcd5>\u001b[0m in \u001b[0;36m<module>\u001b[0;34m\u001b[0m\n\u001b[0;32m----> 1\u001b[0;31m \u001b[0mget_ipython\u001b[0m\u001b[0;34m(\u001b[0m\u001b[0;34m)\u001b[0m\u001b[0;34m.\u001b[0m\u001b[0mrun_line_magic\u001b[0m\u001b[0;34m(\u001b[0m\u001b[0;34m'timeit'\u001b[0m\u001b[0;34m,\u001b[0m \u001b[0;34m'two_state.tau_leap_simulate(time_, molecule_count, 10, .05)'\u001b[0m\u001b[0;34m)\u001b[0m\u001b[0;34m\u001b[0m\u001b[0;34m\u001b[0m\u001b[0m\n\u001b[0m",
      "\u001b[0;32m~/anaconda3/lib/python3.7/site-packages/IPython/core/interactiveshell.py\u001b[0m in \u001b[0;36mrun_line_magic\u001b[0;34m(self, magic_name, line, _stack_depth)\u001b[0m\n\u001b[1;32m   2324\u001b[0m                 \u001b[0mkwargs\u001b[0m\u001b[0;34m[\u001b[0m\u001b[0;34m'local_ns'\u001b[0m\u001b[0;34m]\u001b[0m \u001b[0;34m=\u001b[0m \u001b[0msys\u001b[0m\u001b[0;34m.\u001b[0m\u001b[0m_getframe\u001b[0m\u001b[0;34m(\u001b[0m\u001b[0mstack_depth\u001b[0m\u001b[0;34m)\u001b[0m\u001b[0;34m.\u001b[0m\u001b[0mf_locals\u001b[0m\u001b[0;34m\u001b[0m\u001b[0;34m\u001b[0m\u001b[0m\n\u001b[1;32m   2325\u001b[0m             \u001b[0;32mwith\u001b[0m \u001b[0mself\u001b[0m\u001b[0;34m.\u001b[0m\u001b[0mbuiltin_trap\u001b[0m\u001b[0;34m:\u001b[0m\u001b[0;34m\u001b[0m\u001b[0;34m\u001b[0m\u001b[0m\n\u001b[0;32m-> 2326\u001b[0;31m                 \u001b[0mresult\u001b[0m \u001b[0;34m=\u001b[0m \u001b[0mfn\u001b[0m\u001b[0;34m(\u001b[0m\u001b[0;34m*\u001b[0m\u001b[0margs\u001b[0m\u001b[0;34m,\u001b[0m \u001b[0;34m**\u001b[0m\u001b[0mkwargs\u001b[0m\u001b[0;34m)\u001b[0m\u001b[0;34m\u001b[0m\u001b[0;34m\u001b[0m\u001b[0m\n\u001b[0m\u001b[1;32m   2327\u001b[0m             \u001b[0;32mreturn\u001b[0m \u001b[0mresult\u001b[0m\u001b[0;34m\u001b[0m\u001b[0;34m\u001b[0m\u001b[0m\n\u001b[1;32m   2328\u001b[0m \u001b[0;34m\u001b[0m\u001b[0m\n",
      "\u001b[0;32m<decorator-gen-60>\u001b[0m in \u001b[0;36mtimeit\u001b[0;34m(self, line, cell, local_ns)\u001b[0m\n",
      "\u001b[0;32m~/anaconda3/lib/python3.7/site-packages/IPython/core/magic.py\u001b[0m in \u001b[0;36m<lambda>\u001b[0;34m(f, *a, **k)\u001b[0m\n\u001b[1;32m    185\u001b[0m     \u001b[0;31m# but it's overkill for just that one bit of state.\u001b[0m\u001b[0;34m\u001b[0m\u001b[0;34m\u001b[0m\u001b[0;34m\u001b[0m\u001b[0m\n\u001b[1;32m    186\u001b[0m     \u001b[0;32mdef\u001b[0m \u001b[0mmagic_deco\u001b[0m\u001b[0;34m(\u001b[0m\u001b[0marg\u001b[0m\u001b[0;34m)\u001b[0m\u001b[0;34m:\u001b[0m\u001b[0;34m\u001b[0m\u001b[0;34m\u001b[0m\u001b[0m\n\u001b[0;32m--> 187\u001b[0;31m         \u001b[0mcall\u001b[0m \u001b[0;34m=\u001b[0m \u001b[0;32mlambda\u001b[0m \u001b[0mf\u001b[0m\u001b[0;34m,\u001b[0m \u001b[0;34m*\u001b[0m\u001b[0ma\u001b[0m\u001b[0;34m,\u001b[0m \u001b[0;34m**\u001b[0m\u001b[0mk\u001b[0m\u001b[0;34m:\u001b[0m \u001b[0mf\u001b[0m\u001b[0;34m(\u001b[0m\u001b[0;34m*\u001b[0m\u001b[0ma\u001b[0m\u001b[0;34m,\u001b[0m \u001b[0;34m**\u001b[0m\u001b[0mk\u001b[0m\u001b[0;34m)\u001b[0m\u001b[0;34m\u001b[0m\u001b[0;34m\u001b[0m\u001b[0m\n\u001b[0m\u001b[1;32m    188\u001b[0m \u001b[0;34m\u001b[0m\u001b[0m\n\u001b[1;32m    189\u001b[0m         \u001b[0;32mif\u001b[0m \u001b[0mcallable\u001b[0m\u001b[0;34m(\u001b[0m\u001b[0marg\u001b[0m\u001b[0;34m)\u001b[0m\u001b[0;34m:\u001b[0m\u001b[0;34m\u001b[0m\u001b[0;34m\u001b[0m\u001b[0m\n",
      "\u001b[0;32m~/anaconda3/lib/python3.7/site-packages/IPython/core/magics/execution.py\u001b[0m in \u001b[0;36mtimeit\u001b[0;34m(self, line, cell, local_ns)\u001b[0m\n\u001b[1;32m   1165\u001b[0m                     \u001b[0;32mbreak\u001b[0m\u001b[0;34m\u001b[0m\u001b[0;34m\u001b[0m\u001b[0m\n\u001b[1;32m   1166\u001b[0m \u001b[0;34m\u001b[0m\u001b[0m\n\u001b[0;32m-> 1167\u001b[0;31m         \u001b[0mall_runs\u001b[0m \u001b[0;34m=\u001b[0m \u001b[0mtimer\u001b[0m\u001b[0;34m.\u001b[0m\u001b[0mrepeat\u001b[0m\u001b[0;34m(\u001b[0m\u001b[0mrepeat\u001b[0m\u001b[0;34m,\u001b[0m \u001b[0mnumber\u001b[0m\u001b[0;34m)\u001b[0m\u001b[0;34m\u001b[0m\u001b[0;34m\u001b[0m\u001b[0m\n\u001b[0m\u001b[1;32m   1168\u001b[0m         \u001b[0mbest\u001b[0m \u001b[0;34m=\u001b[0m \u001b[0mmin\u001b[0m\u001b[0;34m(\u001b[0m\u001b[0mall_runs\u001b[0m\u001b[0;34m)\u001b[0m \u001b[0;34m/\u001b[0m \u001b[0mnumber\u001b[0m\u001b[0;34m\u001b[0m\u001b[0;34m\u001b[0m\u001b[0m\n\u001b[1;32m   1169\u001b[0m         \u001b[0mworst\u001b[0m \u001b[0;34m=\u001b[0m \u001b[0mmax\u001b[0m\u001b[0;34m(\u001b[0m\u001b[0mall_runs\u001b[0m\u001b[0;34m)\u001b[0m \u001b[0;34m/\u001b[0m \u001b[0mnumber\u001b[0m\u001b[0;34m\u001b[0m\u001b[0;34m\u001b[0m\u001b[0m\n",
      "\u001b[0;32m~/anaconda3/lib/python3.7/timeit.py\u001b[0m in \u001b[0;36mrepeat\u001b[0;34m(self, repeat, number)\u001b[0m\n\u001b[1;32m    202\u001b[0m         \u001b[0mr\u001b[0m \u001b[0;34m=\u001b[0m \u001b[0;34m[\u001b[0m\u001b[0;34m]\u001b[0m\u001b[0;34m\u001b[0m\u001b[0;34m\u001b[0m\u001b[0m\n\u001b[1;32m    203\u001b[0m         \u001b[0;32mfor\u001b[0m \u001b[0mi\u001b[0m \u001b[0;32min\u001b[0m \u001b[0mrange\u001b[0m\u001b[0;34m(\u001b[0m\u001b[0mrepeat\u001b[0m\u001b[0;34m)\u001b[0m\u001b[0;34m:\u001b[0m\u001b[0;34m\u001b[0m\u001b[0;34m\u001b[0m\u001b[0m\n\u001b[0;32m--> 204\u001b[0;31m             \u001b[0mt\u001b[0m \u001b[0;34m=\u001b[0m \u001b[0mself\u001b[0m\u001b[0;34m.\u001b[0m\u001b[0mtimeit\u001b[0m\u001b[0;34m(\u001b[0m\u001b[0mnumber\u001b[0m\u001b[0;34m)\u001b[0m\u001b[0;34m\u001b[0m\u001b[0;34m\u001b[0m\u001b[0m\n\u001b[0m\u001b[1;32m    205\u001b[0m             \u001b[0mr\u001b[0m\u001b[0;34m.\u001b[0m\u001b[0mappend\u001b[0m\u001b[0;34m(\u001b[0m\u001b[0mt\u001b[0m\u001b[0;34m)\u001b[0m\u001b[0;34m\u001b[0m\u001b[0;34m\u001b[0m\u001b[0m\n\u001b[1;32m    206\u001b[0m         \u001b[0;32mreturn\u001b[0m \u001b[0mr\u001b[0m\u001b[0;34m\u001b[0m\u001b[0;34m\u001b[0m\u001b[0m\n",
      "\u001b[0;32m~/anaconda3/lib/python3.7/site-packages/IPython/core/magics/execution.py\u001b[0m in \u001b[0;36mtimeit\u001b[0;34m(self, number)\u001b[0m\n\u001b[1;32m    167\u001b[0m         \u001b[0mgc\u001b[0m\u001b[0;34m.\u001b[0m\u001b[0mdisable\u001b[0m\u001b[0;34m(\u001b[0m\u001b[0;34m)\u001b[0m\u001b[0;34m\u001b[0m\u001b[0;34m\u001b[0m\u001b[0m\n\u001b[1;32m    168\u001b[0m         \u001b[0;32mtry\u001b[0m\u001b[0;34m:\u001b[0m\u001b[0;34m\u001b[0m\u001b[0;34m\u001b[0m\u001b[0m\n\u001b[0;32m--> 169\u001b[0;31m             \u001b[0mtiming\u001b[0m \u001b[0;34m=\u001b[0m \u001b[0mself\u001b[0m\u001b[0;34m.\u001b[0m\u001b[0minner\u001b[0m\u001b[0;34m(\u001b[0m\u001b[0mit\u001b[0m\u001b[0;34m,\u001b[0m \u001b[0mself\u001b[0m\u001b[0;34m.\u001b[0m\u001b[0mtimer\u001b[0m\u001b[0;34m)\u001b[0m\u001b[0;34m\u001b[0m\u001b[0;34m\u001b[0m\u001b[0m\n\u001b[0m\u001b[1;32m    170\u001b[0m         \u001b[0;32mfinally\u001b[0m\u001b[0;34m:\u001b[0m\u001b[0;34m\u001b[0m\u001b[0;34m\u001b[0m\u001b[0m\n\u001b[1;32m    171\u001b[0m             \u001b[0;32mif\u001b[0m \u001b[0mgcold\u001b[0m\u001b[0;34m:\u001b[0m\u001b[0;34m\u001b[0m\u001b[0;34m\u001b[0m\u001b[0m\n",
      "\u001b[0;32m<magic-timeit>\u001b[0m in \u001b[0;36minner\u001b[0;34m(_it, _timer)\u001b[0m\n",
      "\u001b[0;32m<ipython-input-203-e2cd74f14b15>\u001b[0m in \u001b[0;36mtau_leap_simulate\u001b[0;34m(self, time_, molecule_count, n_c, epsilon)\u001b[0m\n\u001b[1;32m    251\u001b[0m         \u001b[0mmolecule_count_cur\u001b[0m \u001b[0;34m=\u001b[0m \u001b[0;34m[\u001b[0m\u001b[0;32mNone\u001b[0m\u001b[0;34m]\u001b[0m \u001b[0;34m*\u001b[0m \u001b[0mself\u001b[0m\u001b[0;34m.\u001b[0m\u001b[0mnSpecies\u001b[0m\u001b[0;34m\u001b[0m\u001b[0;34m\u001b[0m\u001b[0m\n\u001b[1;32m    252\u001b[0m         \u001b[0mepsilon_list\u001b[0m \u001b[0;34m=\u001b[0m \u001b[0mself\u001b[0m\u001b[0;34m.\u001b[0m\u001b[0mcheck_order\u001b[0m\u001b[0;34m(\u001b[0m\u001b[0mepsilon\u001b[0m\u001b[0;34m)\u001b[0m\u001b[0;34m\u001b[0m\u001b[0;34m\u001b[0m\u001b[0m\n\u001b[0;32m--> 253\u001b[0;31m         \u001b[0;32mwhile\u001b[0m \u001b[0msum\u001b[0m\u001b[0;34m(\u001b[0m\u001b[0mtime_list\u001b[0m\u001b[0;34m)\u001b[0m \u001b[0;34m<\u001b[0m \u001b[0mtime_\u001b[0m\u001b[0;34m:\u001b[0m\u001b[0;34m\u001b[0m\u001b[0;34m\u001b[0m\u001b[0m\n\u001b[0m\u001b[1;32m    254\u001b[0m             \u001b[0;32mfor\u001b[0m \u001b[0m_\u001b[0m \u001b[0;32min\u001b[0m \u001b[0mrange\u001b[0m\u001b[0;34m(\u001b[0m\u001b[0mself\u001b[0m\u001b[0;34m.\u001b[0m\u001b[0mnSpecies\u001b[0m\u001b[0;34m)\u001b[0m\u001b[0;34m:\u001b[0m\u001b[0;34m\u001b[0m\u001b[0;34m\u001b[0m\u001b[0m\n\u001b[1;32m    255\u001b[0m                 \u001b[0mmolecule_count_cur\u001b[0m\u001b[0;34m[\u001b[0m\u001b[0m_\u001b[0m\u001b[0;34m]\u001b[0m \u001b[0;34m=\u001b[0m \u001b[0mmolecule_count\u001b[0m\u001b[0;34m[\u001b[0m\u001b[0m_\u001b[0m\u001b[0;34m]\u001b[0m\u001b[0;34m[\u001b[0m\u001b[0;34m-\u001b[0m\u001b[0;36m1\u001b[0m\u001b[0;34m]\u001b[0m\u001b[0;34m\u001b[0m\u001b[0;34m\u001b[0m\u001b[0m\n",
      "\u001b[0;31mKeyboardInterrupt\u001b[0m: "
     ]
    }
   ],
   "source": [
    "%timeit two_state.tau_leap_simulate(time_, molecule_count, 10, .05)"
   ]
  },
  {
   "cell_type": "code",
   "execution_count": 227,
   "metadata": {},
   "outputs": [
    {
     "name": "stdout",
     "output_type": "stream",
     "text": [
      "[<matplotlib.lines.Line2D object at 0x120705780>]\n"
     ]
    },
    {
     "data": {
      "image/png": "[encoded data removed]",
      "text/plain": [
       "<Figure size 432x288 with 1 Axes>"
      ]
     },
     "metadata": {
      "needs_background": "light"
     },
     "output_type": "display_data"
    }
   ],
   "source": [
    "from matplotlib import pyplot as plt\n",
    "data = {'time': (np.cumsum(two_state.time_list)).tolist(), 'mRNA': two_state.molecule_count[2]}\n",
    "data = pd.DataFrame(data)\n",
    "p = plt.plot(data['time'], data['mRNA'])\n",
    "print(p)"
   ]
  },
  {
   "cell_type": "code",
   "execution_count": 231,
   "metadata": {},
   "outputs": [
    {
     "name": "stdout",
     "output_type": "stream",
     "text": [
      "[<matplotlib.lines.Line2D object at 0x10e1c2898>]\n"
     ]
    },
    {
     "data": {
      "image/png": "[encoded data removed]",
      "text/plain": [
       "<Figure size 432x288 with 1 Axes>"
      ]
     },
     "metadata": {
      "needs_background": "light"
     },
     "output_type": "display_data"
    }
   ],
   "source": [
    "from matplotlib import pyplot as plt\n",
    "data = {'time': (np.cumsum(two_state.time_list)).tolist(), 'mRNA': two_state.molecule_count[2]}\n",
    "data = pd.DataFrame(data)\n",
    "p = plt.plot(data['time'], data['mRNA'])\n",
    "print(p)"
   ]
  },
  {
   "cell_type": "code",
   "execution_count": 229,
   "metadata": {},
   "outputs": [
    {
     "name": "stdout",
     "output_type": "stream",
     "text": [
      "300 10 2 1\n"
     ]
    }
   ],
   "source": [
    "time_ = 10\n",
    "molecule_count = [[1], [0],[10]]\n",
    "two_state = GillespieAlgorithm(forward_rxn_list, backward_rxn_list, rxn_rates, nSpecies)\n",
    "# two_state.calculate_propensity(molecule_count)\n",
    "# print(*rxn_rates)\n",
    "# two_state.sampled_rxn_id = 0\n",
    "\n",
    "two_state.simulate(time_, molecule_count)\n",
    "print(*rxn_rates)"
   ]
  },
  {
   "cell_type": "code",
   "execution_count": 217,
   "metadata": {},
   "outputs": [
    {
     "name": "stdout",
     "output_type": "stream",
     "text": [
      "1.74 s ± 44.9 ms per loop (mean ± std. dev. of 7 runs, 1 loop each)\n"
     ]
    }
   ],
   "source": [
    "%timeit two_state.simulate(time_, molecule_count)"
   ]
  },
  {
   "cell_type": "code",
   "execution_count": 201,
   "metadata": {},
   "outputs": [],
   "source": [
    "forward_rxn_list, backward_rxn_list = np.zeros((2, 3), int), np.zeros((2, 3), int)\n",
    "forward_rxn_list[0, 0] = 0\n",
    "forward_rxn_list[0, 1] = 0\n",
    "forward_rxn_list[0, 2] = 1\n",
    "forward_rxn_list[1, 0] = 1\n",
    "forward_rxn_list[1, 1] = 0\n",
    "forward_rxn_list[1, 2] = 1\n",
    "backward_rxn_list[0, 0] = 0\n",
    "backward_rxn_list[0, 1] = 0\n",
    "backward_rxn_list[0, 2] = 1\n",
    "backward_rxn_list[1, 0] = 1\n",
    "backward_rxn_list[1, 1] = 1\n",
    "backward_rxn_list[1, 2] = 1\n",
    "rxn_rates = [300, 10]\n",
    "nSpecies = 2\n",
    "\n",
    "two_state = GillespieAlgorithm(forward_rxn_list, backward_rxn_list, rxn_rates, nSpecies)"
   ]
  },
  {
   "cell_type": "code",
   "execution_count": null,
   "metadata": {},
   "outputs": [],
   "source": []
  }
 ],
 "metadata": {
  "kernelspec": {
   "display_name": "Python 3",
   "language": "python",
   "name": "python3"
  },
  "language_info": {
   "codemirror_mode": {
    "name": "ipython",
    "version": 3
   },
   "file_extension": ".py",
   "mimetype": "text/x-python",
   "name": "python",
   "nbconvert_exporter": "python",
   "pygments_lexer": "ipython3",
   "version": "3.7.3"
  }
 },
 "nbformat": 4,
 "nbformat_minor": 4
}
