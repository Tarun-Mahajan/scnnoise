{
 "cells": [
  {
   "cell_type": "code",
   "execution_count": 1,
   "id": "3fd61690",
   "metadata": {},
   "outputs": [],
   "source": [
    "from scnnoise import _scnnoise\n",
    "import pandas as pd\n",
    "\n",
    "class LTSim:\n",
    "    def __init__(self, root, num_rxns, num_genes, num_species_genes, num_rxns_gene_type, max_time, count_save_file, edge_list_csv):\n",
    "        \"\"\"\n",
    "        Constructor for the LTSim object\n",
    "        Takes in the root of the LineageTree in the simulation\n",
    "        \"\"\"\n",
    "        self.root = root    #cell Type\n",
    "        \n",
    "        #write set functions for each instead of in constructor\n",
    "        self.num_rxns = num_rxns\n",
    "        self.num_genes = num_genes\n",
    "        self.num_species_genes = num_species_genes\n",
    "        self.num_rxns_gene_type = num_rxns_gene_type\n",
    "        self.max_time = max_time\n",
    "        self.count_save_file = count_save_file\n",
    "        self.edge_list_csv = edge_list_csv\n",
    "        \n",
    "    def sim_LT(num_samples):\n",
    "        \"\"\"\n",
    "        Outputs a n x g Matrix (n cells by g Genes) of raw mRNA counts\n",
    "        \"\"\"\n",
    "        #Step 1: Construct simulator object\n",
    "        #a. build GRN from params\n",
    "        #b. define intragene interactions\n",
    "        simulator = _scnnoise.gillespieSDMnoCellCycle(self.num_rxns, self.num_genes, self.num_species_genes, self.num_rxns_gene_type, self.max_time, True, 10000, self.count_save_file)\n",
    "        \n",
    "    #add_gene_state (int gene_id, int gene_type, std::vector<int> GRN_rxn_IN,\n",
    "    #std::vector<int> GRN_species_OUT, std::vector<int> molecule_count_cur,\n",
    "    #std::vector<std::vector<int>> reactants, std::vector<std::vector<int>> products,\n",
    "    #std::vector<std::vector<int>> reactants_stoichio, std::vector<std::vector<int>> products_stoichio,\n",
    "    #std::vector<double> rxn_rate, std::vector<double> propensity_val)\n",
    "        \n",
    "        for gene_id in range(self.num_genes):\n",
    "            simulator.add_gene_state(gene_id, gene_type[gene_id] ,GRN_rxn_IN[gene_id], GRN_species_OUT[gene_id], molecule_count_cur[gene_id], reactants[gene_id], products[gene_id], reactants_stoichio[gene_id], products_stoichio[gene_id], rxn_rate[gene_id], products_stoichio[gene_id], rxn_rate[gene_id], propensity_val[gene_id])\n",
    "        \n",
    "    #void scNNoiSE::add_GRN_edge (int src, int dest, double prob_contr,\n",
    "    #double hill_coeff, double half_maximal, int rxn_IN, int species_OUT,\n",
    "    #bool activator)\n",
    "        \n",
    "        # Use file name for this\n",
    "        for edge in edge_list:\n",
    "            simulator.add_GRN_edge(edge[0], edge[1], edge[2], edge[3], edge[4], edge[5],edge[6], edge[7])\n",
    "        \n",
    "        \n",
    "        for dep in dep_list:\n",
    "            simulator.add_dependency_edge(dep[0], dep[1], dep[2])\n",
    "\n",
    "        \n",
    "        #Step 2: Run sim_cell_type() on root\n",
    "        self.root.sim_cell_type(num_samples, simulator)\n",
    "        \n",
    "        \n",
    "        #Step 3: return result file, or data structure\n",
    "            \n",
    "            \n",
    "        return self.sample"
   ]
  },
  {
   "cell_type": "code",
   "execution_count": 2,
   "id": "57660941",
   "metadata": {},
   "outputs": [],
   "source": [
    "\n",
    "class cellType:\n",
    "    def __init__(self, lineageName,rxn_rates, children):\n",
    "        \"\"\"\n",
    "        Takes in rxn_rates and children and constructs a cellType node\n",
    "        \"\"\"\n",
    "        #get rate parameters from external file or otherwise\n",
    "        self.lineageName = lineageName\n",
    "        self.rxn_rates = rxn_rates\n",
    "        self.children = children\n",
    "\n",
    "    def sim_cell_type(num_samples, simulator):\n",
    "        \"\"\"\n",
    "        Params\n",
    "            num_samples - number of sample reads to output for this cell type\n",
    "            simulator -  a simulator object used to simulate  the system\n",
    "            \n",
    "        Simulates num_samples reads of cellType \n",
    "        and outputs num_samples x genes Matrix of raw mRNA counts\n",
    "        \"\"\"\n",
    "        #Recursive function (careful with passing by reference/by copy)\n",
    "        #Step 1: simulate gene expression to steady state\n",
    "            #a. it would be nice to be able to pass the time to simulate for into the simulate function\n",
    "        simulator.simulate()\n",
    "            #for steady state check sergio method\n",
    "        \n",
    "        #Step 2: Sample num_samples reads for each gene\n",
    "        #Step 3: Recusively run sim_transition() on all children (this could be parallelized)\n",
    "        \n",
    "        \n",
    "        #base case\n",
    "        if len(children) == 0:\n",
    "            return \n",
    "        \n",
    "        #recursive case\n",
    "        else:\n",
    "            for cell_type in self.children:\n",
    "                cell_type.sim_transition(num_samples, simulator)\n",
    "                \n",
    "        \n",
    "    def sim_transition(num_samples, simulator):\n",
    "        \"\"\"\n",
    "        Params\n",
    "            num_samples - number of sample reads to output for this cell type\n",
    "            simulator -  a simulator object used to simulate  the system\n",
    "            \n",
    "        Simulates num_samples reads of cells transitioning from the parent cell type \n",
    "        and outputs num_samples x genes Matrix of raw mRNA counts\n",
    "        \"\"\"\n",
    "        #helper (careful with passing by reference/by copy)\n",
    "        #Step 1: Save new kinetic parameters into simulator\n",
    "            #a. maybe here it would be better to add options to the c++ code to make this easier \n",
    "        for gene in range(simulator.num_genes):   \n",
    "                rxn_struct.rxn_rate = self.rxn_rates[gene][param_id]\n",
    "            \n",
    "            \n",
    "        #Step 2: simluate transition from parent steady state to daughter steady state\n",
    "            #a. here we check when the system reaches a new steady state and sample before then\n",
    "            #b. if steady states are similar mbe set simulation time?\n",
    "            \n",
    "        #try t-test for mean for all genes (for each thousand timepoints) compared to calculated steady state for current cell_type\n",
    "        simulator.simulate()\n",
    "        \n",
    "        #Step 3: Sample num_sample transition cells and store to output and run sim_cell_type\n",
    "        self.sim_cell_type(num_samples, simulator)\n",
    "        "
   ]
  },
  {
   "cell_type": "code",
   "execution_count": 3,
   "id": "fe08e97c",
   "metadata": {},
   "outputs": [
    {
     "data": {
      "text/plain": [
       "4"
      ]
     },
     "execution_count": 3,
     "metadata": {},
     "output_type": "execute_result"
    }
   ],
   "source": [
    "### Testing cellType creation\n",
    "c4 = cellType(4,[1,2,3,4],[]) #placeholder reaction rates\n",
    "c3 = cellType(3,[1,2,3,4],[c4]) \n",
    "c2 = cellType(2,[1,2,3,4],[]) \n",
    "c1 = cellType(1,[1,2,3,4],[c2,c3]) \n",
    " \n",
    "c1.children[1].children[0].lineageName #should output 4\n",
    "\n"
   ]
  },
  {
   "cell_type": "code",
   "execution_count": 7,
   "id": "95ee946b",
   "metadata": {},
   "outputs": [],
   "source": [
    "sim  = LTSim(c1, 12, 2, [4, 4], [6, 6],1000, 'save_test', 'edge_test.csv')"
   ]
  },
  {
   "cell_type": "code",
   "execution_count": 10,
   "id": "1d23ed99",
   "metadata": {},
   "outputs": [],
   "source": [
    "\n",
    "simulator = _scnnoise.gillespieSDMnoCellCycle(sim.num_rxns, sim.num_genes, sim.num_species_genes, sim.num_rxns_gene_type, sim.max_time, True, 100, sim.count_save_file)\n",
    "simulator.add_gene_state(0, 0 ,[2], [3], [0,2,0,0], [[1],[0],[0],[2],[2],[3]], [[0],[1],[0,2],[],[2,3],[]], [[1],[1],[1],[1],[1],[1]], [[1],[1],[1,1],[],[1,1],[]], [1,2,3,4,5,6],  [2,0,0,0,0,0])\n",
    "simulator.add_gene_state(1, 0 ,[2], [3], [0,2,0,0], [[1],[0],[0],[2],[2],[3]], [[0],[1],[0,2],[],[2,3],[]], [[1],[1],[1],[1],[1],[1]], [[1],[1],[1,1],[],[1,1],[]], [1,2,3,4,5,6],  [2,0,0,0,0,0])\n",
    "\n",
    "edge_list = pd.read_csv(sim.edge_list_csv)\n",
    "\n",
    "simulator.add_GRN_edge(edge_list['src'][0], edge_list['dest'][0], edge_list['prob_contr'][0], edge_list['hill_coeff'][0], edge_list['half_maximal'][0], edge_list['rxn_IN'][0], edge_list['species_OUT'][0],edge_list['activator'][0])\n",
    "simulator.add_dependency_edge(0,0,0)\n",
    "simulator.add_dependency_edge(0,0,1)\n",
    "simulator.add_dependency_edge(0,0,2)\n",
    "simulator.add_dependency_edge(0,1,0)\n",
    "simulator.add_dependency_edge(0,1,1)\n",
    "simulator.add_dependency_edge(0,1,2)\n",
    "simulator.add_dependency_edge(0,2,3)\n",
    "simulator.add_dependency_edge(0,3,3)\n",
    "simulator.add_dependency_edge(0,3,4)\n",
    "simulator.add_dependency_edge(0,4,5)\n",
    "simulator.add_dependency_edge(0,5,5)\n",
    "\n",
    "simulator.simulate()"
   ]
  },
  {
   "cell_type": "code",
   "execution_count": 5,
   "id": "60230dfb",
   "metadata": {},
   "outputs": [
    {
     "name": "stdout",
     "output_type": "stream",
     "text": [
      "/Users/lukakarginov/Documents/Dar Lab/scnnoise\n",
      "/Users/lukakarginov/Documents/Dar Lab/scnnoise/src/scnnoise\n"
     ]
    }
   ],
   "source": [
    "%cd ..\n",
    "%cd src/scnnoise"
   ]
  },
  {
   "cell_type": "code",
   "execution_count": null,
   "id": "c7643e22",
   "metadata": {},
   "outputs": [],
   "source": []
  }
 ],
 "metadata": {
  "kernelspec": {
   "display_name": "Python 3",
   "language": "python",
   "name": "python3"
  },
  "language_info": {
   "codemirror_mode": {
    "name": "ipython",
    "version": 3
   },
   "file_extension": ".py",
   "mimetype": "text/x-python",
   "name": "python",
   "nbconvert_exporter": "python",
   "pygments_lexer": "ipython3",
   "version": "3.8.2"
  }
 },
 "nbformat": 4,
 "nbformat_minor": 5
}
